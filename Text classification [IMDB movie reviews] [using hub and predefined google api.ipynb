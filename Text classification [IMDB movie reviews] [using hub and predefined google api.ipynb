{
 "cells": [
  {
   "cell_type": "code",
   "execution_count": 6,
   "metadata": {},
   "outputs": [],
   "source": [
    "from __future__ import absolute_import, division,print_function,unicode_literals\n",
    "import tensorflow as tf\n",
    "from tensorflow import keras\n",
    "import tensorflow_hub as hub\n",
    "import tensorflow_datasets as tfds\n",
    "import numpy as np\n",
    "import matplotlib.pyplot as plt\n",
    "import pandas as pd"
   ]
  },
  {
   "cell_type": "code",
   "execution_count": 7,
   "metadata": {},
   "outputs": [
    {
     "name": "stdout",
     "output_type": "stream",
     "text": [
      "GPU is NOT AVAILABLE\n"
     ]
    }
   ],
   "source": [
    "'''We'll use the IMDB dataset that contains the text of 50,000 movie reviews from the Internet Movie Database. \n",
    "These are split into 25,000 reviews for training and 25,000 reviews for testing. \n",
    "The training and testing sets are balanced, \n",
    "meaning they contain an equal number of positive and negative reviews.'''\n",
    "print(\"GPU is\", \"available\" if tf.test.is_gpu_available() else \"NOT AVAILABLE\")"
   ]
  },
  {
   "cell_type": "code",
   "execution_count": 14,
   "metadata": {},
   "outputs": [
    {
     "name": "stdout",
     "output_type": "stream",
     "text": [
      "Downloading and preparing dataset imdb_reviews (80.23 MiB) to C:\\Users\\Nitin Mali\\tensorflow_datasets\\imdb_reviews\\plain_text\\0.1.0...\n"
     ]
    },
    {
     "data": {
      "application/vnd.jupyter.widget-view+json": {
       "model_id": "9a9df36b8a9b432da59e85af9c14dd33",
       "version_major": 2,
       "version_minor": 0
      },
      "text/plain": [
       "HBox(children=(IntProgress(value=1, bar_style='info', description='Dl Completed...', max=1, style=ProgressStyl…"
      ]
     },
     "metadata": {},
     "output_type": "display_data"
    },
    {
     "data": {
      "application/vnd.jupyter.widget-view+json": {
       "model_id": "e81271aecd7d4a3497f7e23ad790ff77",
       "version_major": 2,
       "version_minor": 0
      },
      "text/plain": [
       "HBox(children=(IntProgress(value=1, bar_style='info', description='Dl Size...', max=1, style=ProgressStyle(des…"
      ]
     },
     "metadata": {},
     "output_type": "display_data"
    },
    {
     "name": "stdout",
     "output_type": "stream",
     "text": [
      "\n",
      "\n",
      "\n"
     ]
    },
    {
     "data": {
      "application/vnd.jupyter.widget-view+json": {
       "model_id": "",
       "version_major": 2,
       "version_minor": 0
      },
      "text/plain": [
       "HBox(children=(IntProgress(value=1, bar_style='info', max=1), HTML(value='')))"
      ]
     },
     "metadata": {},
     "output_type": "display_data"
    },
    {
     "name": "stdout",
     "output_type": "stream",
     "text": [
      "\r"
     ]
    },
    {
     "data": {
      "application/vnd.jupyter.widget-view+json": {
       "model_id": "",
       "version_major": 2,
       "version_minor": 0
      },
      "text/plain": [
       "HBox(children=(IntProgress(value=0, description='Shuffling...', max=10, style=ProgressStyle(description_width=…"
      ]
     },
     "metadata": {},
     "output_type": "display_data"
    },
    {
     "name": "stderr",
     "output_type": "stream",
     "text": [
      "WARNING: Logging before flag parsing goes to stderr.\n",
      "W0803 14:45:34.851153 20612 deprecation.py:323] From c:\\users\\nitin mali\\appdata\\local\\programs\\python\\python37\\lib\\site-packages\\tensorflow_datasets\\core\\file_format_adapter.py:209: tf_record_iterator (from tensorflow.python.lib.io.tf_record) is deprecated and will be removed in a future version.\n",
      "Instructions for updating:\n",
      "Use eager execution and: \n",
      "`tf.data.TFRecordDataset(path)`\n"
     ]
    },
    {
     "data": {
      "application/vnd.jupyter.widget-view+json": {
       "model_id": "",
       "version_major": 2,
       "version_minor": 0
      },
      "text/plain": [
       "HBox(children=(IntProgress(value=1, bar_style='info', description='Reading...', max=1, style=ProgressStyle(des…"
      ]
     },
     "metadata": {},
     "output_type": "display_data"
    },
    {
     "data": {
      "application/vnd.jupyter.widget-view+json": {
       "model_id": "",
       "version_major": 2,
       "version_minor": 0
      },
      "text/plain": [
       "HBox(children=(IntProgress(value=0, description='Writing...', max=2500, style=ProgressStyle(description_width=…"
      ]
     },
     "metadata": {},
     "output_type": "display_data"
    },
    {
     "data": {
      "application/vnd.jupyter.widget-view+json": {
       "model_id": "",
       "version_major": 2,
       "version_minor": 0
      },
      "text/plain": [
       "HBox(children=(IntProgress(value=1, bar_style='info', description='Reading...', max=1, style=ProgressStyle(des…"
      ]
     },
     "metadata": {},
     "output_type": "display_data"
    },
    {
     "data": {
      "application/vnd.jupyter.widget-view+json": {
       "model_id": "",
       "version_major": 2,
       "version_minor": 0
      },
      "text/plain": [
       "HBox(children=(IntProgress(value=0, description='Writing...', max=2500, style=ProgressStyle(description_width=…"
      ]
     },
     "metadata": {},
     "output_type": "display_data"
    },
    {
     "data": {
      "application/vnd.jupyter.widget-view+json": {
       "model_id": "",
       "version_major": 2,
       "version_minor": 0
      },
      "text/plain": [
       "HBox(children=(IntProgress(value=1, bar_style='info', description='Reading...', max=1, style=ProgressStyle(des…"
      ]
     },
     "metadata": {},
     "output_type": "display_data"
    },
    {
     "data": {
      "application/vnd.jupyter.widget-view+json": {
       "model_id": "",
       "version_major": 2,
       "version_minor": 0
      },
      "text/plain": [
       "HBox(children=(IntProgress(value=0, description='Writing...', max=2500, style=ProgressStyle(description_width=…"
      ]
     },
     "metadata": {},
     "output_type": "display_data"
    },
    {
     "data": {
      "application/vnd.jupyter.widget-view+json": {
       "model_id": "",
       "version_major": 2,
       "version_minor": 0
      },
      "text/plain": [
       "HBox(children=(IntProgress(value=1, bar_style='info', description='Reading...', max=1, style=ProgressStyle(des…"
      ]
     },
     "metadata": {},
     "output_type": "display_data"
    },
    {
     "data": {
      "application/vnd.jupyter.widget-view+json": {
       "model_id": "",
       "version_major": 2,
       "version_minor": 0
      },
      "text/plain": [
       "HBox(children=(IntProgress(value=0, description='Writing...', max=2500, style=ProgressStyle(description_width=…"
      ]
     },
     "metadata": {},
     "output_type": "display_data"
    },
    {
     "data": {
      "application/vnd.jupyter.widget-view+json": {
       "model_id": "",
       "version_major": 2,
       "version_minor": 0
      },
      "text/plain": [
       "HBox(children=(IntProgress(value=1, bar_style='info', description='Reading...', max=1, style=ProgressStyle(des…"
      ]
     },
     "metadata": {},
     "output_type": "display_data"
    },
    {
     "data": {
      "application/vnd.jupyter.widget-view+json": {
       "model_id": "",
       "version_major": 2,
       "version_minor": 0
      },
      "text/plain": [
       "HBox(children=(IntProgress(value=0, description='Writing...', max=2500, style=ProgressStyle(description_width=…"
      ]
     },
     "metadata": {},
     "output_type": "display_data"
    },
    {
     "data": {
      "application/vnd.jupyter.widget-view+json": {
       "model_id": "",
       "version_major": 2,
       "version_minor": 0
      },
      "text/plain": [
       "HBox(children=(IntProgress(value=1, bar_style='info', description='Reading...', max=1, style=ProgressStyle(des…"
      ]
     },
     "metadata": {},
     "output_type": "display_data"
    },
    {
     "data": {
      "application/vnd.jupyter.widget-view+json": {
       "model_id": "",
       "version_major": 2,
       "version_minor": 0
      },
      "text/plain": [
       "HBox(children=(IntProgress(value=0, description='Writing...', max=2500, style=ProgressStyle(description_width=…"
      ]
     },
     "metadata": {},
     "output_type": "display_data"
    },
    {
     "data": {
      "application/vnd.jupyter.widget-view+json": {
       "model_id": "",
       "version_major": 2,
       "version_minor": 0
      },
      "text/plain": [
       "HBox(children=(IntProgress(value=1, bar_style='info', description='Reading...', max=1, style=ProgressStyle(des…"
      ]
     },
     "metadata": {},
     "output_type": "display_data"
    },
    {
     "data": {
      "application/vnd.jupyter.widget-view+json": {
       "model_id": "",
       "version_major": 2,
       "version_minor": 0
      },
      "text/plain": [
       "HBox(children=(IntProgress(value=0, description='Writing...', max=2500, style=ProgressStyle(description_width=…"
      ]
     },
     "metadata": {},
     "output_type": "display_data"
    },
    {
     "data": {
      "application/vnd.jupyter.widget-view+json": {
       "model_id": "",
       "version_major": 2,
       "version_minor": 0
      },
      "text/plain": [
       "HBox(children=(IntProgress(value=1, bar_style='info', description='Reading...', max=1, style=ProgressStyle(des…"
      ]
     },
     "metadata": {},
     "output_type": "display_data"
    },
    {
     "data": {
      "application/vnd.jupyter.widget-view+json": {
       "model_id": "",
       "version_major": 2,
       "version_minor": 0
      },
      "text/plain": [
       "HBox(children=(IntProgress(value=0, description='Writing...', max=2500, style=ProgressStyle(description_width=…"
      ]
     },
     "metadata": {},
     "output_type": "display_data"
    },
    {
     "data": {
      "application/vnd.jupyter.widget-view+json": {
       "model_id": "",
       "version_major": 2,
       "version_minor": 0
      },
      "text/plain": [
       "HBox(children=(IntProgress(value=1, bar_style='info', description='Reading...', max=1, style=ProgressStyle(des…"
      ]
     },
     "metadata": {},
     "output_type": "display_data"
    },
    {
     "data": {
      "application/vnd.jupyter.widget-view+json": {
       "model_id": "",
       "version_major": 2,
       "version_minor": 0
      },
      "text/plain": [
       "HBox(children=(IntProgress(value=0, description='Writing...', max=2500, style=ProgressStyle(description_width=…"
      ]
     },
     "metadata": {},
     "output_type": "display_data"
    },
    {
     "data": {
      "application/vnd.jupyter.widget-view+json": {
       "model_id": "",
       "version_major": 2,
       "version_minor": 0
      },
      "text/plain": [
       "HBox(children=(IntProgress(value=1, bar_style='info', description='Reading...', max=1, style=ProgressStyle(des…"
      ]
     },
     "metadata": {},
     "output_type": "display_data"
    },
    {
     "data": {
      "application/vnd.jupyter.widget-view+json": {
       "model_id": "",
       "version_major": 2,
       "version_minor": 0
      },
      "text/plain": [
       "HBox(children=(IntProgress(value=0, description='Writing...', max=2500, style=ProgressStyle(description_width=…"
      ]
     },
     "metadata": {},
     "output_type": "display_data"
    },
    {
     "name": "stdout",
     "output_type": "stream",
     "text": [
      "\r"
     ]
    },
    {
     "data": {
      "application/vnd.jupyter.widget-view+json": {
       "model_id": "",
       "version_major": 2,
       "version_minor": 0
      },
      "text/plain": [
       "HBox(children=(IntProgress(value=1, bar_style='info', max=1), HTML(value='')))"
      ]
     },
     "metadata": {},
     "output_type": "display_data"
    },
    {
     "name": "stdout",
     "output_type": "stream",
     "text": [
      "\r"
     ]
    },
    {
     "data": {
      "application/vnd.jupyter.widget-view+json": {
       "model_id": "",
       "version_major": 2,
       "version_minor": 0
      },
      "text/plain": [
       "HBox(children=(IntProgress(value=0, description='Shuffling...', max=10, style=ProgressStyle(description_width=…"
      ]
     },
     "metadata": {},
     "output_type": "display_data"
    },
    {
     "data": {
      "application/vnd.jupyter.widget-view+json": {
       "model_id": "",
       "version_major": 2,
       "version_minor": 0
      },
      "text/plain": [
       "HBox(children=(IntProgress(value=1, bar_style='info', description='Reading...', max=1, style=ProgressStyle(des…"
      ]
     },
     "metadata": {},
     "output_type": "display_data"
    },
    {
     "data": {
      "application/vnd.jupyter.widget-view+json": {
       "model_id": "",
       "version_major": 2,
       "version_minor": 0
      },
      "text/plain": [
       "HBox(children=(IntProgress(value=0, description='Writing...', max=2500, style=ProgressStyle(description_width=…"
      ]
     },
     "metadata": {},
     "output_type": "display_data"
    },
    {
     "data": {
      "application/vnd.jupyter.widget-view+json": {
       "model_id": "",
       "version_major": 2,
       "version_minor": 0
      },
      "text/plain": [
       "HBox(children=(IntProgress(value=1, bar_style='info', description='Reading...', max=1, style=ProgressStyle(des…"
      ]
     },
     "metadata": {},
     "output_type": "display_data"
    },
    {
     "data": {
      "application/vnd.jupyter.widget-view+json": {
       "model_id": "",
       "version_major": 2,
       "version_minor": 0
      },
      "text/plain": [
       "HBox(children=(IntProgress(value=0, description='Writing...', max=2500, style=ProgressStyle(description_width=…"
      ]
     },
     "metadata": {},
     "output_type": "display_data"
    },
    {
     "data": {
      "application/vnd.jupyter.widget-view+json": {
       "model_id": "",
       "version_major": 2,
       "version_minor": 0
      },
      "text/plain": [
       "HBox(children=(IntProgress(value=1, bar_style='info', description='Reading...', max=1, style=ProgressStyle(des…"
      ]
     },
     "metadata": {},
     "output_type": "display_data"
    },
    {
     "data": {
      "application/vnd.jupyter.widget-view+json": {
       "model_id": "",
       "version_major": 2,
       "version_minor": 0
      },
      "text/plain": [
       "HBox(children=(IntProgress(value=0, description='Writing...', max=2500, style=ProgressStyle(description_width=…"
      ]
     },
     "metadata": {},
     "output_type": "display_data"
    },
    {
     "data": {
      "application/vnd.jupyter.widget-view+json": {
       "model_id": "",
       "version_major": 2,
       "version_minor": 0
      },
      "text/plain": [
       "HBox(children=(IntProgress(value=1, bar_style='info', description='Reading...', max=1, style=ProgressStyle(des…"
      ]
     },
     "metadata": {},
     "output_type": "display_data"
    },
    {
     "data": {
      "application/vnd.jupyter.widget-view+json": {
       "model_id": "",
       "version_major": 2,
       "version_minor": 0
      },
      "text/plain": [
       "HBox(children=(IntProgress(value=0, description='Writing...', max=2500, style=ProgressStyle(description_width=…"
      ]
     },
     "metadata": {},
     "output_type": "display_data"
    },
    {
     "data": {
      "application/vnd.jupyter.widget-view+json": {
       "model_id": "",
       "version_major": 2,
       "version_minor": 0
      },
      "text/plain": [
       "HBox(children=(IntProgress(value=1, bar_style='info', description='Reading...', max=1, style=ProgressStyle(des…"
      ]
     },
     "metadata": {},
     "output_type": "display_data"
    },
    {
     "data": {
      "application/vnd.jupyter.widget-view+json": {
       "model_id": "",
       "version_major": 2,
       "version_minor": 0
      },
      "text/plain": [
       "HBox(children=(IntProgress(value=0, description='Writing...', max=2500, style=ProgressStyle(description_width=…"
      ]
     },
     "metadata": {},
     "output_type": "display_data"
    },
    {
     "data": {
      "application/vnd.jupyter.widget-view+json": {
       "model_id": "",
       "version_major": 2,
       "version_minor": 0
      },
      "text/plain": [
       "HBox(children=(IntProgress(value=1, bar_style='info', description='Reading...', max=1, style=ProgressStyle(des…"
      ]
     },
     "metadata": {},
     "output_type": "display_data"
    },
    {
     "data": {
      "application/vnd.jupyter.widget-view+json": {
       "model_id": "",
       "version_major": 2,
       "version_minor": 0
      },
      "text/plain": [
       "HBox(children=(IntProgress(value=0, description='Writing...', max=2500, style=ProgressStyle(description_width=…"
      ]
     },
     "metadata": {},
     "output_type": "display_data"
    },
    {
     "data": {
      "application/vnd.jupyter.widget-view+json": {
       "model_id": "",
       "version_major": 2,
       "version_minor": 0
      },
      "text/plain": [
       "HBox(children=(IntProgress(value=1, bar_style='info', description='Reading...', max=1, style=ProgressStyle(des…"
      ]
     },
     "metadata": {},
     "output_type": "display_data"
    },
    {
     "data": {
      "application/vnd.jupyter.widget-view+json": {
       "model_id": "",
       "version_major": 2,
       "version_minor": 0
      },
      "text/plain": [
       "HBox(children=(IntProgress(value=0, description='Writing...', max=2500, style=ProgressStyle(description_width=…"
      ]
     },
     "metadata": {},
     "output_type": "display_data"
    },
    {
     "data": {
      "application/vnd.jupyter.widget-view+json": {
       "model_id": "",
       "version_major": 2,
       "version_minor": 0
      },
      "text/plain": [
       "HBox(children=(IntProgress(value=1, bar_style='info', description='Reading...', max=1, style=ProgressStyle(des…"
      ]
     },
     "metadata": {},
     "output_type": "display_data"
    },
    {
     "data": {
      "application/vnd.jupyter.widget-view+json": {
       "model_id": "",
       "version_major": 2,
       "version_minor": 0
      },
      "text/plain": [
       "HBox(children=(IntProgress(value=0, description='Writing...', max=2500, style=ProgressStyle(description_width=…"
      ]
     },
     "metadata": {},
     "output_type": "display_data"
    },
    {
     "data": {
      "application/vnd.jupyter.widget-view+json": {
       "model_id": "",
       "version_major": 2,
       "version_minor": 0
      },
      "text/plain": [
       "HBox(children=(IntProgress(value=1, bar_style='info', description='Reading...', max=1, style=ProgressStyle(des…"
      ]
     },
     "metadata": {},
     "output_type": "display_data"
    },
    {
     "data": {
      "application/vnd.jupyter.widget-view+json": {
       "model_id": "",
       "version_major": 2,
       "version_minor": 0
      },
      "text/plain": [
       "HBox(children=(IntProgress(value=0, description='Writing...', max=2500, style=ProgressStyle(description_width=…"
      ]
     },
     "metadata": {},
     "output_type": "display_data"
    },
    {
     "data": {
      "application/vnd.jupyter.widget-view+json": {
       "model_id": "",
       "version_major": 2,
       "version_minor": 0
      },
      "text/plain": [
       "HBox(children=(IntProgress(value=1, bar_style='info', description='Reading...', max=1, style=ProgressStyle(des…"
      ]
     },
     "metadata": {},
     "output_type": "display_data"
    },
    {
     "data": {
      "application/vnd.jupyter.widget-view+json": {
       "model_id": "",
       "version_major": 2,
       "version_minor": 0
      },
      "text/plain": [
       "HBox(children=(IntProgress(value=0, description='Writing...', max=2500, style=ProgressStyle(description_width=…"
      ]
     },
     "metadata": {},
     "output_type": "display_data"
    },
    {
     "name": "stdout",
     "output_type": "stream",
     "text": [
      "\r"
     ]
    },
    {
     "data": {
      "application/vnd.jupyter.widget-view+json": {
       "model_id": "",
       "version_major": 2,
       "version_minor": 0
      },
      "text/plain": [
       "HBox(children=(IntProgress(value=1, bar_style='info', max=1), HTML(value='')))"
      ]
     },
     "metadata": {},
     "output_type": "display_data"
    },
    {
     "name": "stdout",
     "output_type": "stream",
     "text": [
      "\r"
     ]
    },
    {
     "data": {
      "application/vnd.jupyter.widget-view+json": {
       "model_id": "",
       "version_major": 2,
       "version_minor": 0
      },
      "text/plain": [
       "HBox(children=(IntProgress(value=0, description='Shuffling...', max=20, style=ProgressStyle(description_width=…"
      ]
     },
     "metadata": {},
     "output_type": "display_data"
    },
    {
     "data": {
      "application/vnd.jupyter.widget-view+json": {
       "model_id": "",
       "version_major": 2,
       "version_minor": 0
      },
      "text/plain": [
       "HBox(children=(IntProgress(value=1, bar_style='info', description='Reading...', max=1, style=ProgressStyle(des…"
      ]
     },
     "metadata": {},
     "output_type": "display_data"
    },
    {
     "data": {
      "application/vnd.jupyter.widget-view+json": {
       "model_id": "",
       "version_major": 2,
       "version_minor": 0
      },
      "text/plain": [
       "HBox(children=(IntProgress(value=0, description='Writing...', max=2500, style=ProgressStyle(description_width=…"
      ]
     },
     "metadata": {},
     "output_type": "display_data"
    },
    {
     "data": {
      "application/vnd.jupyter.widget-view+json": {
       "model_id": "",
       "version_major": 2,
       "version_minor": 0
      },
      "text/plain": [
       "HBox(children=(IntProgress(value=1, bar_style='info', description='Reading...', max=1, style=ProgressStyle(des…"
      ]
     },
     "metadata": {},
     "output_type": "display_data"
    },
    {
     "data": {
      "application/vnd.jupyter.widget-view+json": {
       "model_id": "",
       "version_major": 2,
       "version_minor": 0
      },
      "text/plain": [
       "HBox(children=(IntProgress(value=0, description='Writing...', max=2500, style=ProgressStyle(description_width=…"
      ]
     },
     "metadata": {},
     "output_type": "display_data"
    },
    {
     "data": {
      "application/vnd.jupyter.widget-view+json": {
       "model_id": "",
       "version_major": 2,
       "version_minor": 0
      },
      "text/plain": [
       "HBox(children=(IntProgress(value=1, bar_style='info', description='Reading...', max=1, style=ProgressStyle(des…"
      ]
     },
     "metadata": {},
     "output_type": "display_data"
    },
    {
     "data": {
      "application/vnd.jupyter.widget-view+json": {
       "model_id": "",
       "version_major": 2,
       "version_minor": 0
      },
      "text/plain": [
       "HBox(children=(IntProgress(value=0, description='Writing...', max=2500, style=ProgressStyle(description_width=…"
      ]
     },
     "metadata": {},
     "output_type": "display_data"
    },
    {
     "data": {
      "application/vnd.jupyter.widget-view+json": {
       "model_id": "",
       "version_major": 2,
       "version_minor": 0
      },
      "text/plain": [
       "HBox(children=(IntProgress(value=1, bar_style='info', description='Reading...', max=1, style=ProgressStyle(des…"
      ]
     },
     "metadata": {},
     "output_type": "display_data"
    },
    {
     "data": {
      "application/vnd.jupyter.widget-view+json": {
       "model_id": "",
       "version_major": 2,
       "version_minor": 0
      },
      "text/plain": [
       "HBox(children=(IntProgress(value=0, description='Writing...', max=2500, style=ProgressStyle(description_width=…"
      ]
     },
     "metadata": {},
     "output_type": "display_data"
    },
    {
     "data": {
      "application/vnd.jupyter.widget-view+json": {
       "model_id": "",
       "version_major": 2,
       "version_minor": 0
      },
      "text/plain": [
       "HBox(children=(IntProgress(value=1, bar_style='info', description='Reading...', max=1, style=ProgressStyle(des…"
      ]
     },
     "metadata": {},
     "output_type": "display_data"
    },
    {
     "data": {
      "application/vnd.jupyter.widget-view+json": {
       "model_id": "",
       "version_major": 2,
       "version_minor": 0
      },
      "text/plain": [
       "HBox(children=(IntProgress(value=0, description='Writing...', max=2500, style=ProgressStyle(description_width=…"
      ]
     },
     "metadata": {},
     "output_type": "display_data"
    },
    {
     "data": {
      "application/vnd.jupyter.widget-view+json": {
       "model_id": "",
       "version_major": 2,
       "version_minor": 0
      },
      "text/plain": [
       "HBox(children=(IntProgress(value=1, bar_style='info', description='Reading...', max=1, style=ProgressStyle(des…"
      ]
     },
     "metadata": {},
     "output_type": "display_data"
    },
    {
     "data": {
      "application/vnd.jupyter.widget-view+json": {
       "model_id": "",
       "version_major": 2,
       "version_minor": 0
      },
      "text/plain": [
       "HBox(children=(IntProgress(value=0, description='Writing...', max=2500, style=ProgressStyle(description_width=…"
      ]
     },
     "metadata": {},
     "output_type": "display_data"
    },
    {
     "data": {
      "application/vnd.jupyter.widget-view+json": {
       "model_id": "",
       "version_major": 2,
       "version_minor": 0
      },
      "text/plain": [
       "HBox(children=(IntProgress(value=1, bar_style='info', description='Reading...', max=1, style=ProgressStyle(des…"
      ]
     },
     "metadata": {},
     "output_type": "display_data"
    },
    {
     "data": {
      "application/vnd.jupyter.widget-view+json": {
       "model_id": "",
       "version_major": 2,
       "version_minor": 0
      },
      "text/plain": [
       "HBox(children=(IntProgress(value=0, description='Writing...', max=2500, style=ProgressStyle(description_width=…"
      ]
     },
     "metadata": {},
     "output_type": "display_data"
    },
    {
     "data": {
      "application/vnd.jupyter.widget-view+json": {
       "model_id": "",
       "version_major": 2,
       "version_minor": 0
      },
      "text/plain": [
       "HBox(children=(IntProgress(value=1, bar_style='info', description='Reading...', max=1, style=ProgressStyle(des…"
      ]
     },
     "metadata": {},
     "output_type": "display_data"
    },
    {
     "data": {
      "application/vnd.jupyter.widget-view+json": {
       "model_id": "",
       "version_major": 2,
       "version_minor": 0
      },
      "text/plain": [
       "HBox(children=(IntProgress(value=0, description='Writing...', max=2500, style=ProgressStyle(description_width=…"
      ]
     },
     "metadata": {},
     "output_type": "display_data"
    },
    {
     "data": {
      "application/vnd.jupyter.widget-view+json": {
       "model_id": "",
       "version_major": 2,
       "version_minor": 0
      },
      "text/plain": [
       "HBox(children=(IntProgress(value=1, bar_style='info', description='Reading...', max=1, style=ProgressStyle(des…"
      ]
     },
     "metadata": {},
     "output_type": "display_data"
    },
    {
     "data": {
      "application/vnd.jupyter.widget-view+json": {
       "model_id": "",
       "version_major": 2,
       "version_minor": 0
      },
      "text/plain": [
       "HBox(children=(IntProgress(value=0, description='Writing...', max=2500, style=ProgressStyle(description_width=…"
      ]
     },
     "metadata": {},
     "output_type": "display_data"
    },
    {
     "data": {
      "application/vnd.jupyter.widget-view+json": {
       "model_id": "",
       "version_major": 2,
       "version_minor": 0
      },
      "text/plain": [
       "HBox(children=(IntProgress(value=1, bar_style='info', description='Reading...', max=1, style=ProgressStyle(des…"
      ]
     },
     "metadata": {},
     "output_type": "display_data"
    },
    {
     "data": {
      "application/vnd.jupyter.widget-view+json": {
       "model_id": "",
       "version_major": 2,
       "version_minor": 0
      },
      "text/plain": [
       "HBox(children=(IntProgress(value=0, description='Writing...', max=2500, style=ProgressStyle(description_width=…"
      ]
     },
     "metadata": {},
     "output_type": "display_data"
    },
    {
     "data": {
      "application/vnd.jupyter.widget-view+json": {
       "model_id": "",
       "version_major": 2,
       "version_minor": 0
      },
      "text/plain": [
       "HBox(children=(IntProgress(value=1, bar_style='info', description='Reading...', max=1, style=ProgressStyle(des…"
      ]
     },
     "metadata": {},
     "output_type": "display_data"
    },
    {
     "data": {
      "application/vnd.jupyter.widget-view+json": {
       "model_id": "",
       "version_major": 2,
       "version_minor": 0
      },
      "text/plain": [
       "HBox(children=(IntProgress(value=0, description='Writing...', max=2500, style=ProgressStyle(description_width=…"
      ]
     },
     "metadata": {},
     "output_type": "display_data"
    },
    {
     "data": {
      "application/vnd.jupyter.widget-view+json": {
       "model_id": "",
       "version_major": 2,
       "version_minor": 0
      },
      "text/plain": [
       "HBox(children=(IntProgress(value=1, bar_style='info', description='Reading...', max=1, style=ProgressStyle(des…"
      ]
     },
     "metadata": {},
     "output_type": "display_data"
    },
    {
     "data": {
      "application/vnd.jupyter.widget-view+json": {
       "model_id": "",
       "version_major": 2,
       "version_minor": 0
      },
      "text/plain": [
       "HBox(children=(IntProgress(value=0, description='Writing...', max=2500, style=ProgressStyle(description_width=…"
      ]
     },
     "metadata": {},
     "output_type": "display_data"
    },
    {
     "data": {
      "application/vnd.jupyter.widget-view+json": {
       "model_id": "",
       "version_major": 2,
       "version_minor": 0
      },
      "text/plain": [
       "HBox(children=(IntProgress(value=1, bar_style='info', description='Reading...', max=1, style=ProgressStyle(des…"
      ]
     },
     "metadata": {},
     "output_type": "display_data"
    },
    {
     "data": {
      "application/vnd.jupyter.widget-view+json": {
       "model_id": "",
       "version_major": 2,
       "version_minor": 0
      },
      "text/plain": [
       "HBox(children=(IntProgress(value=0, description='Writing...', max=2500, style=ProgressStyle(description_width=…"
      ]
     },
     "metadata": {},
     "output_type": "display_data"
    },
    {
     "data": {
      "application/vnd.jupyter.widget-view+json": {
       "model_id": "",
       "version_major": 2,
       "version_minor": 0
      },
      "text/plain": [
       "HBox(children=(IntProgress(value=1, bar_style='info', description='Reading...', max=1, style=ProgressStyle(des…"
      ]
     },
     "metadata": {},
     "output_type": "display_data"
    },
    {
     "data": {
      "application/vnd.jupyter.widget-view+json": {
       "model_id": "",
       "version_major": 2,
       "version_minor": 0
      },
      "text/plain": [
       "HBox(children=(IntProgress(value=0, description='Writing...', max=2500, style=ProgressStyle(description_width=…"
      ]
     },
     "metadata": {},
     "output_type": "display_data"
    },
    {
     "data": {
      "application/vnd.jupyter.widget-view+json": {
       "model_id": "",
       "version_major": 2,
       "version_minor": 0
      },
      "text/plain": [
       "HBox(children=(IntProgress(value=1, bar_style='info', description='Reading...', max=1, style=ProgressStyle(des…"
      ]
     },
     "metadata": {},
     "output_type": "display_data"
    },
    {
     "data": {
      "application/vnd.jupyter.widget-view+json": {
       "model_id": "",
       "version_major": 2,
       "version_minor": 0
      },
      "text/plain": [
       "HBox(children=(IntProgress(value=0, description='Writing...', max=2500, style=ProgressStyle(description_width=…"
      ]
     },
     "metadata": {},
     "output_type": "display_data"
    },
    {
     "data": {
      "application/vnd.jupyter.widget-view+json": {
       "model_id": "",
       "version_major": 2,
       "version_minor": 0
      },
      "text/plain": [
       "HBox(children=(IntProgress(value=1, bar_style='info', description='Reading...', max=1, style=ProgressStyle(des…"
      ]
     },
     "metadata": {},
     "output_type": "display_data"
    },
    {
     "data": {
      "application/vnd.jupyter.widget-view+json": {
       "model_id": "",
       "version_major": 2,
       "version_minor": 0
      },
      "text/plain": [
       "HBox(children=(IntProgress(value=0, description='Writing...', max=2500, style=ProgressStyle(description_width=…"
      ]
     },
     "metadata": {},
     "output_type": "display_data"
    },
    {
     "data": {
      "application/vnd.jupyter.widget-view+json": {
       "model_id": "",
       "version_major": 2,
       "version_minor": 0
      },
      "text/plain": [
       "HBox(children=(IntProgress(value=1, bar_style='info', description='Reading...', max=1, style=ProgressStyle(des…"
      ]
     },
     "metadata": {},
     "output_type": "display_data"
    },
    {
     "data": {
      "application/vnd.jupyter.widget-view+json": {
       "model_id": "",
       "version_major": 2,
       "version_minor": 0
      },
      "text/plain": [
       "HBox(children=(IntProgress(value=0, description='Writing...', max=2500, style=ProgressStyle(description_width=…"
      ]
     },
     "metadata": {},
     "output_type": "display_data"
    },
    {
     "data": {
      "application/vnd.jupyter.widget-view+json": {
       "model_id": "",
       "version_major": 2,
       "version_minor": 0
      },
      "text/plain": [
       "HBox(children=(IntProgress(value=1, bar_style='info', description='Reading...', max=1, style=ProgressStyle(des…"
      ]
     },
     "metadata": {},
     "output_type": "display_data"
    },
    {
     "data": {
      "application/vnd.jupyter.widget-view+json": {
       "model_id": "",
       "version_major": 2,
       "version_minor": 0
      },
      "text/plain": [
       "HBox(children=(IntProgress(value=0, description='Writing...', max=2500, style=ProgressStyle(description_width=…"
      ]
     },
     "metadata": {},
     "output_type": "display_data"
    },
    {
     "data": {
      "application/vnd.jupyter.widget-view+json": {
       "model_id": "",
       "version_major": 2,
       "version_minor": 0
      },
      "text/plain": [
       "HBox(children=(IntProgress(value=1, bar_style='info', description='Reading...', max=1, style=ProgressStyle(des…"
      ]
     },
     "metadata": {},
     "output_type": "display_data"
    },
    {
     "data": {
      "application/vnd.jupyter.widget-view+json": {
       "model_id": "",
       "version_major": 2,
       "version_minor": 0
      },
      "text/plain": [
       "HBox(children=(IntProgress(value=0, description='Writing...', max=2500, style=ProgressStyle(description_width=…"
      ]
     },
     "metadata": {},
     "output_type": "display_data"
    },
    {
     "data": {
      "application/vnd.jupyter.widget-view+json": {
       "model_id": "",
       "version_major": 2,
       "version_minor": 0
      },
      "text/plain": [
       "HBox(children=(IntProgress(value=1, bar_style='info', description='Reading...', max=1, style=ProgressStyle(des…"
      ]
     },
     "metadata": {},
     "output_type": "display_data"
    },
    {
     "data": {
      "application/vnd.jupyter.widget-view+json": {
       "model_id": "",
       "version_major": 2,
       "version_minor": 0
      },
      "text/plain": [
       "HBox(children=(IntProgress(value=0, description='Writing...', max=2500, style=ProgressStyle(description_width=…"
      ]
     },
     "metadata": {},
     "output_type": "display_data"
    },
    {
     "name": "stdout",
     "output_type": "stream",
     "text": [
      "Dataset imdb_reviews downloaded and prepared to C:\\Users\\Nitin Mali\\tensorflow_datasets\\imdb_reviews\\plain_text\\0.1.0. Subsequent calls will reuse this data.\n"
     ]
    }
   ],
   "source": [
    "# split the training set inot 60& and 40%\n",
    "#for training 15,000 examples, 10,000 for validation and 25,000 for testing\n",
    "\n",
    "train_validation_split = tfds.Split.TRAIN.subsplit([6, 4])\n",
    "(train_data,validation_data),test_data=tfds.load(\n",
    "    name=\"imdb_reviews\",\n",
    "    split=(train_validation_split,tfds.Split.TEST),\n",
    "    as_supervised=True)"
   ]
  },
  {
   "cell_type": "code",
   "execution_count": 18,
   "metadata": {},
   "outputs": [
    {
     "data": {
      "text/plain": [
       "<tf.Tensor: id=224, shape=(10,), dtype=string, numpy=\n",
       "array([b\"As a lifelong fan of Dickens, I have invariably been disappointed by adaptations of his novels.<br /><br />Although his works presented an extremely accurate re-telling of human life at every level in Victorian Britain, throughout them all was a pervasive thread of humour that could be both playful or sarcastic as the narrative dictated. In a way, he was a literary caricaturist and cartoonist. He could be serious and hilarious in the same sentence. He pricked pride, lampooned arrogance, celebrated modesty, and empathised with loneliness and poverty. It may be a clich\\xc3\\xa9, but he was a people's writer.<br /><br />And it is the comedy that is so often missing from his interpretations. At the time of writing, Oliver Twist is being dramatised in serial form on BBC television. All of the misery and cruelty is their, but non of the humour, irony, and savage lampoonery. The result is just a dark, dismal experience: the story penned by a journalist rather than a novelist. It's not really Dickens at all.<br /><br />'Oliver!', on the other hand, is much closer to the mark. The mockery of officialdom is perfectly interpreted, from the blustering beadle to the drunken magistrate. The classic stand-off between the beadle and Mr Brownlow, in which the law is described as 'a ass, a idiot' couldn't have been better done. Harry Secombe is an ideal choice.<br /><br />But the blinding cruelty is also there, the callous indifference of the state, the cold, hunger, poverty and loneliness are all presented just as surely as The Master would have wished.<br /><br />And then there is crime. Ron Moody is a treasure as the sleazy Jewish fence, whilst Oliver Reid has Bill Sykes to perfection.<br /><br />Perhaps not surprisingly, Lionel Bart - himself a Jew from London's east-end - takes a liberty with Fagin by re-interpreting him as a much more benign fellow than was Dicken's original. In the novel, he was utterly ruthless, sending some of his own boys to the gallows in order to protect himself (though he was also caught and hanged). Whereas in the movie, he is presented as something of a wayward father-figure, a sort of charitable thief rather than a corrupter of children, the latter being a long-standing anti-semitic sentiment. Otherwise, very few liberties are taken with Dickens's original. All of the most memorable elements are included. Just enough menace and violence is retained to ensure narrative fidelity whilst at the same time allowing for children' sensibilities. Nancy is still beaten to death, Bullseye narrowly escapes drowning, and Bill Sykes gets a faithfully graphic come-uppance.<br /><br />Every song is excellent, though they do incline towards schmaltz. Mark Lester mimes his wonderfully. Both his and my favourite scene is the one in which the world comes alive to 'who will buy'. It's schmaltzy, but it's Dickens through and through.<br /><br />I could go on. I could commend the wonderful set-pieces, the contrast of the rich and poor. There is top-quality acting from more British regulars than you could shake a stick at.<br /><br />I ought to give it 10 points, but I'm feeling more like Scrooge today. Soak it up with your Christmas dinner. No original has been better realised.\",\n",
       "       b\"Oh yeah! Jenna Jameson did it again! Yeah Baby! This movie rocks. It was one of the 1st movies i saw of her. And i have to say i feel in love with her, she was great in this move.<br /><br />Her performance was outstanding and what i liked the most was the scenery and the wardrobe it was amazing you can tell that they put a lot into the movie the girls cloth were amazing.<br /><br />I hope this comment helps and u can buy the movie, the storyline is awesome is very unique and i'm sure u are going to like it. Jenna amazed us once more and no wonder the movie won so many awards. Her make-up and wardrobe is very very sexy and the girls on girls scene is amazing. specially the one where she looks like an angel. It's a must see and i hope u share my interests\",\n",
       "       b\"I saw this film on True Movies (which automatically made me sceptical) but actually - it was good. Why? Not because of the amazing plot twists or breathtaking dialogue (of which there is little) but because actually, despite what people say I thought the film was accurate in it's depiction of teenagers dealing with pregnancy.<br /><br />It's NOT Dawson's Creek, they're not graceful, cool witty characters who breeze through sexuality with effortless knowledge. They're kids and they act like kids would. <br /><br />They're blunt, awkward and annoyingly confused about everything. Yes, this could be by accident and they could just be bad actors but I don't think so. Dermot Mulroney gives (when not trying to be cool) a very believable performance and I loved him for it. Patricia Arquette IS whiny and annoying, but she was pregnant and a teenagers? The combination of the two isn't exactly lavender on your pillow. The plot was VERY predictable and but so what? I believed them, his stress and inability to cope - her brave, yet slightly misguided attempts to bring them closer together. I think the characters, acted by anyone else, WOULD indeed have been annoying and unbelievable but they weren't. It reflects the surreality of the situation they're in, that he's sitting in class and she walks on campus with the baby. I felt angry at her for that, I felt angry at him for being such a child and for blaming her. I felt it all.<br /><br />In the end, I loved it and would recommend it.<br /><br />Watch out for the scene where Dermot Mulroney runs from the disastrous counselling session - career performance.\",\n",
       "       b'This was a wonderfully clever and entertaining movie that I shall never tire of watching many, many times. The casting was magnificent in matching up the young with the older characters. There are those of us out here who really do appreciate good actors and an intelligent story format. As for Judi Dench, she is beautiful and a gift to any kind of production in which she stars. I always make a point to see Judi Dench in all her performances. She is a superb actress and a pleasure to watch as each transformation of her character comes to life. I can only be grateful when I see such an outstanding picture for most of the motion pictures made more recently lack good characters, good scripts and good acting. The movie public needs heroes, not deviant manikins, who lack ingenuity and talent. How wonderful to see old favorites like Leslie Caron, Olympia Dukakis and Cleo Laine. I would like to see this movie win the awards it deserves. Thank you again for a tremendous night of entertainment. I congratulate the writer, director, producer, and all those who did such a fine job.',\n",
       "       b'I have no idea what the other reviewer is talking about- this was a wonderful movie, and created a sense of the era that feels like time travel. The characters are truly young, Mary is a strong match for Byron, Claire is juvenile and a tad annoying, Polidori is a convincing beaten-down sycophant... all are beautiful, curious, and decadent... not the frightening wrecks they are in Gothic.<br /><br />Gothic works as an independent piece of shock film, and I loved it for different reasons, but this works like a Merchant and Ivory film, and was from my readings the best capture of what the summer must have felt like. Romantic, yes, but completely rekindles my interest in the lives of Shelley and Byron every time I think about the film. One of my all-time favorites.',\n",
       "       b\"This was soul-provoking! I am an Iranian, and living in th 21st century, I didn't know that such big tribes have been living in such conditions at the time of my grandfather!<br /><br />You see that today, or even in 1925, on one side of the world a lady or a baby could have everything served for him or her clean and on-demand, but here 80 years ago, people ventured their life to go to somewhere with more grass. It's really interesting that these Persians bear those difficulties to find pasture for their sheep, but they lose many the sheep on their way.<br /><br />I praise the Americans who accompanied this tribe, they were as tough as Bakhtiari people.\",\n",
       "       b'Just because someone is under the age of 10 does not mean they are stupid. If your child likes this film you\\'d better have him/her tested. I am continually amazed at how so many people can be involved in something that turns out so bad. This \"film\" is a showcase for digital wizardry AND NOTHING ELSE. The writing is horrid. I can\\'t remember when I\\'ve heard such bad dialogue. The songs are beyond wretched. The acting is sub-par but then the actors were not given much. Who decided to employ Joey Fatone? He cannot sing and he is ugly as sin.<br /><br />The worst thing is the obviousness of it all. It is as if the writers went out of their way to make it all as stupid as possible. Great children\\'s movies are wicked, smart and full of wit - films like Shrek and Toy Story in recent years, Willie Wonka and The Witches to mention two of the past. But in the continual dumbing-down of American more are flocking to dreck like Finding Nemo (yes, that\\'s right), the recent Charlie & The Chocolate Factory and eye-crossing trash like Red Riding Hood.',\n",
       "       b\"I absolutely LOVED this movie when I was a kid. I cried every time I watched it. It wasn't weird to me. I totally identified with the characters. I would love to see it again (and hope I wont be disappointed!). Pufnstuf rocks!!!! I was really drawn in to the fantasy world. And to me the movie was loooong. I wonder if I ever saw the series and have confused them? The acting I thought was strong. I loved Jack Wilde. He was so dreamy to an 10 year old (when I first saw the movie, not in 1970. I can still remember the characters vividly. The flute was totally believable and I can still 'feel' the evil woods. Witchy poo was scary - I wouldn't want to cross her path.\",\n",
       "       b'A very close and sharp discription of the bubbling and dynamic emotional world of specialy one 18year old guy, that makes his first experiences in his gay love to an other boy, during an vacation with a part of his family.<br /><br />I liked this film because of his extremly clear and surrogated storytelling , with all this \"Sound-close-ups\" and quiet moments wich had been full of intensive moods.<br /><br />',\n",
       "       b\"This is the most depressing film I have ever seen. I first saw it as a child and even thinking about it now really upsets me. I know it was set in a time when life was hard and I know these people were poor and the crops were vital. Yes, I get all that. What I find hard to take is I can't remember one single light moment in the entire film. Maybe it was true to life, I don't know. I'm quite sure the acting was top notch and the direction and quality of filming etc etc was wonderful and I know that every film can't have a happy ending but as a family film it is dire in my opinion.<br /><br />I wouldn't recommend it to anyone who wants to be entertained by a film. I can't stress enough how this film affected me as a child. I was talking about it recently and all the sad memories came flooding back. I think it would have all but the heartless reaching for the Prozac.\"],\n",
       "      dtype=object)>"
      ]
     },
     "execution_count": 18,
     "metadata": {},
     "output_type": "execute_result"
    }
   ],
   "source": [
    "#Explore the data \n",
    "train_examples_batch, train_labels_batch = next(iter(train_data.batch(10)))\n",
    "train_examples_batch"
   ]
  },
  {
   "cell_type": "code",
   "execution_count": 44,
   "metadata": {},
   "outputs": [
    {
     "data": {
      "text/plain": [
       "<tf.Tensor: id=225, shape=(10,), dtype=int64, numpy=array([1, 1, 1, 1, 1, 1, 0, 1, 1, 0], dtype=int64)>"
      ]
     },
     "execution_count": 44,
     "metadata": {},
     "output_type": "execute_result"
    }
   ],
   "source": [
    "train_labels_batch"
   ]
  },
  {
   "cell_type": "code",
   "execution_count": null,
   "metadata": {},
   "outputs": [],
   "source": [
    "#Build the model \n",
    "'''The neural network is created by stacking layers—this requires three main architectural decisions:\n",
    "\n",
    "How to represent the text?\n",
    "How many layers to use in the model?\n",
    "How many hidden units to use for each layer?'''\n",
    "\n",
    "'''One way to represent the text is to convert sentences into embeddings vectors. \n",
    "We can use a pre-trained text embedding as the first layer, which will have three advantages: * \n",
    "we don't have to worry about text preprocessing, * \n",
    "we can benefit from transfer learning, * the embedding has a fixed size, so it's simpler to process.'''"
   ]
  },
  {
   "cell_type": "code",
   "execution_count": null,
   "metadata": {},
   "outputs": [],
   "source": [
    "'''For this example we will use a pre-trained text embedding model from TensorFlow Hub called google/tf2-preview/gnews-swivel-20dim/1.\n",
    "\n",
    "There are three other pre-trained models to test for the sake of this tutorial:\n",
    "\n",
    "google/tf2-preview/gnews-swivel-20dim-with-oov/1 - same as google/tf2-preview/gnews-swivel-20dim/1, but with 2.5% vocabulary converted to OOV buckets. This can help if vocabulary of the task and vocabulary of the model don't fully overlap.\n",
    "google/tf2-preview/nnlm-en-dim50/1 - A much larger model with ~1M vocabulary size and 50 dimensions.\n",
    "google/tf2-preview/nnlm-en-dim128/1 - Even larger model with ~1M vocabulary size and 128 dimensions.\n",
    "Let's first create a Keras layer that uses a TensorFlow Hub model to embed the sentences, and try it out on a couple of input examples. Note that no matter the length of the input text, the output shape of the embeddings is: (num_examples, embedding_dimension).'''"
   ]
  },
  {
   "cell_type": "code",
   "execution_count": 45,
   "metadata": {},
   "outputs": [
    {
     "data": {
      "text/plain": [
       "<tf.Tensor: id=565, shape=(3, 20), dtype=float32, numpy=\n",
       "array([[ 3.9819887 , -4.4838037 ,  5.177359  , -2.3643482 , -3.2938678 ,\n",
       "        -3.5364532 , -2.4786978 ,  2.5525482 ,  6.688532  , -2.3076782 ,\n",
       "        -1.9807833 ,  1.1315885 , -3.0339816 , -0.7604128 , -5.743445  ,\n",
       "         3.4242578 ,  4.790099  , -4.03061   , -5.992149  , -1.7297493 ],\n",
       "       [ 3.4232912 , -4.230874  ,  4.1488533 , -0.29553518, -6.802391  ,\n",
       "        -2.5163853 , -4.4002395 ,  1.905792  ,  4.7512794 , -0.40538004,\n",
       "        -4.3401685 ,  1.0361497 ,  0.9744097 ,  0.71507156, -6.2657013 ,\n",
       "         0.16533905,  4.560262  , -1.3106939 , -3.1121316 , -2.1338716 ],\n",
       "       [ 3.8508697 , -5.003031  ,  4.8700504 , -0.04324996, -5.893603  ,\n",
       "        -5.2983093 , -4.004676  ,  4.1236343 ,  6.267754  ,  0.11632943,\n",
       "        -3.5934832 ,  0.8023905 ,  0.56146765,  0.9192484 , -7.3066816 ,\n",
       "         2.8202746 ,  6.2000837 , -3.5709393 , -4.564525  , -2.305622  ]],\n",
       "      dtype=float32)>"
      ]
     },
     "execution_count": 45,
     "metadata": {},
     "output_type": "execute_result"
    }
   ],
   "source": [
    "embedding = \"https://tfhub.dev/google/tf2-preview/gnews-swivel-20dim/1\"\n",
    "hub_layer = hub.KerasLayer(embedding, input_shape=[], \n",
    "                           dtype=tf.string, trainable=True)\n",
    "hub_layer(train_examples_batch[:3])"
   ]
  },
  {
   "cell_type": "code",
   "execution_count": 47,
   "metadata": {},
   "outputs": [],
   "source": [
    "#example for sentence converted to 50 dimensions output vector\n",
    "import tensorflow_hub as hub\n",
    "\n",
    "embed = hub.load(\"https://tfhub.dev/google/tf2-preview/nnlm-en-dim50/1\")\n",
    "embeddings = embed([\"cat is on the mat\", \"dog is in the fog\"])"
   ]
  },
  {
   "cell_type": "code",
   "execution_count": 56,
   "metadata": {},
   "outputs": [
    {
     "name": "stdout",
     "output_type": "stream",
     "text": [
      "Model: \"sequential_7\"\n",
      "_________________________________________________________________\n",
      "Layer (type)                 Output Shape              Param #   \n",
      "=================================================================\n",
      "keras_layer (KerasLayer)     (None, 20)                400020    \n",
      "_________________________________________________________________\n",
      "dense_12 (Dense)             (None, 16)                336       \n",
      "_________________________________________________________________\n",
      "dense_13 (Dense)             (None, 1)                 17        \n",
      "=================================================================\n",
      "Total params: 400,373\n",
      "Trainable params: 400,373\n",
      "Non-trainable params: 0\n",
      "_________________________________________________________________\n"
     ]
    }
   ],
   "source": [
    "#S let's now build the full model\n",
    "model = tf.keras.Sequential()\n",
    "model.add(hub_layer)\n",
    "model.add(tf.keras.layers.Dense(16, activation='relu'))\n",
    "model.add(tf.keras.layers.Dense(1, activation='sigmoid'))\n",
    "\n",
    "model.summary()"
   ]
  },
  {
   "cell_type": "code",
   "execution_count": null,
   "metadata": {},
   "outputs": [],
   "source": [
    "'''The layers are stacked sequentially to build the classifier:\n",
    "\n",
    "The first layer is a TensorFlow Hub layer. This layer uses a pre-trained Saved Model to map a sentence into its embedding vector. \n",
    "The pre-trained text embedding model that we are using (google/tf2-preview/gnews-swivel-20dim/1) \n",
    "splits the sentence into tokens, embeds each token and then combines the embedding.\n",
    "The resulting dimensions are: (num_examples, embedding_dimension).\n",
    "This fixed-length output vector is piped through a fully-connected (Dense) layer with 16 hidden units.\n",
    "The last layer is densely connected with a single output node. Using the sigmoid activation function, \n",
    "this value is a float between 0 and 1, representing a probability, or confidence level.'''"
   ]
  },
  {
   "cell_type": "code",
   "execution_count": null,
   "metadata": {},
   "outputs": [],
   "source": [
    "'''Loss function and optimizer\n",
    "A model needs a loss function and an optimizer for training. Since this is a binary classification problem and the model outputs a probability (a single-unit layer with a sigmoid activation), we'll use the binary_crossentropy loss function.\n",
    "\n",
    "This isn't the only choice for a loss function, you could, for instance, choose mean_squared_error. But, generally, binary_crossentropy is better for dealing with probabilities—it measures the \"distance\" between probability distributions, or in our case, between the ground-truth distribution and the predictions.\n",
    "\n",
    "Later, when we are exploring regression problems (say, to predict the price of a house), we will see how to use another loss function called mean squared error.\n",
    "\n",
    "Now, configure the model to use an optimizer and a loss function:'''"
   ]
  },
  {
   "cell_type": "code",
   "execution_count": 57,
   "metadata": {},
   "outputs": [],
   "source": [
    "model.compile(optimizer='adam',\n",
    "              loss='binary_crossentropy',\n",
    "              metrics=['accuracy'])"
   ]
  },
  {
   "cell_type": "code",
   "execution_count": null,
   "metadata": {},
   "outputs": [],
   "source": [
    "'''Train the model for 20 epochs in mini-batches of 512 samples. \n",
    "This is 20 iterations over all samples in the x_train and y_train tensors. \n",
    "While training, monitor the model's loss and accuracy on the 10,000 samples from the validation set:'''"
   ]
  },
  {
   "cell_type": "code",
   "execution_count": 59,
   "metadata": {},
   "outputs": [
    {
     "name": "stdout",
     "output_type": "stream",
     "text": [
      "Epoch 1/10\n",
      "30/30 [==============================].6343 - accuracy: 0.63 - 2s 1s/step - loss: 0.6480 - accuracy: 0.62 - 3s 866ms/step - loss: 0.6548 - accuracy: 0.615 - 3s 716ms/step - loss: 0.6461 - accuracy: 0.628 - 3s 621ms/step - loss: 0.6425 - accuracy: 0.631 - 3s 571ms/step - loss: 0.6432 - accuracy: 0.634 - 4s 536ms/step - loss: 0.6457 - accuracy: 0.630 - 4s 507ms/step - loss: 0.6443 - accuracy: 0.633 - 4s 482ms/step - loss: 0.6442 - accuracy: 0.635 - 5s 457ms/step - loss: 0.6426 - accuracy: 0.638 - 5s 435ms/step - loss: 0.6415 - accuracy: 0.639 - 5s 416ms/step - loss: 0.6389 - accuracy: 0.640 - 5s 396ms/step - loss: 0.6380 - accuracy: 0.642 - 5s 382ms/step - loss: 0.6370 - accuracy: 0.642 - 6s 368ms/step - loss: 0.6385 - accuracy: 0.641 - 6s 355ms/step - loss: 0.6397 - accuracy: 0.641 - 6s 343ms/step - loss: 0.6394 - accuracy: 0.639 - 6s 333ms/step - loss: 0.6382 - accuracy: 0.641 - 6s 323ms/step - loss: 0.6377 - accuracy: 0.641 - 6s 316ms/step - loss: 0.6358 - accuracy: 0.644 - 6s 308ms/step - loss: 0.6351 - accuracy: 0.644 - 7s 304ms/step - loss: 0.6323 - accuracy: 0.648 - 7s 297ms/step - loss: 0.6306 - accuracy: 0.650 - 7s 292ms/step - loss: 0.6301 - accuracy: 0.651 - 7s 287ms/step - loss: 0.6291 - accuracy: 0.650 - 7s 286ms/step - loss: 0.6293 - accuracy: 0.650 - 8s 282ms/step - loss: 0.6283 - accuracy: 0.651 - 8s 279ms/step - loss: 0.6279 - accuracy: 0.652 - 8s 275ms/step - loss: 0.6273 - accuracy: 0.653 - 8s 269ms/step - loss: 0.6261 - accuracy: 0.653 - 12s 413ms/step - loss: 0.6261 - accuracy: 0.6536 - val_loss: 0.0000e+00 - val_accuracy: 0.0000e+00\n",
      "Epoch 2/10\n",
      "30/30 [==============================] - ETA: 47s - loss: 0.5845 - accuracy: 0.693 - ETA: 26s - loss: 0.6007 - accuracy: 0.669 - ETA: 19s - loss: 0.6052 - accuracy: 0.669 - ETA: 15s - loss: 0.5983 - accuracy: 0.677 - ETA: 12s - loss: 0.5968 - accuracy: 0.680 - ETA: 11s - loss: 0.5980 - accuracy: 0.680 - ETA: 10s - loss: 0.6009 - accuracy: 0.678 - ETA: 9s - loss: 0.6005 - accuracy: 0.678 - ETA: 8s - loss: 0.6000 - accuracy: 0.67 - ETA: 7s - loss: 0.5994 - accuracy: 0.68 - ETA: 6s - loss: 0.5987 - accuracy: 0.68 - ETA: 6s - loss: 0.5968 - accuracy: 0.68 - ETA: 6s - loss: 0.5962 - accuracy: 0.68 - ETA: 5s - loss: 0.5959 - accuracy: 0.68 - ETA: 5s - loss: 0.5980 - accuracy: 0.68 - ETA: 4s - loss: 0.5997 - accuracy: 0.68 - ETA: 4s - loss: 0.6000 - accuracy: 0.68 - ETA: 3s - loss: 0.5991 - accuracy: 0.68 - ETA: 3s - loss: 0.5990 - accuracy: 0.68 - ETA: 3s - loss: 0.5974 - accuracy: 0.68 - ETA: 2s - loss: 0.5970 - accuracy: 0.68 - ETA: 2s - loss: 0.5945 - accuracy: 0.68 - ETA: 2s - loss: 0.5933 - accuracy: 0.68 - ETA: 1s - loss: 0.5929 - accuracy: 0.68 - ETA: 1s - loss: 0.5920 - accuracy: 0.69 - ETA: 1s - loss: 0.5922 - accuracy: 0.68 - ETA: 0s - loss: 0.5912 - accuracy: 0.69 - ETA: 0s - loss: 0.5912 - accuracy: 0.69 - ETA: 0s - loss: 0.5908 - accuracy: 0.69 - 12s 407ms/step - loss: 0.5896 - accuracy: 0.6915 - val_loss: 0.5868 - val_accuracy: 0.6971\n",
      "Epoch 3/10\n",
      "30/30 [==============================] - ETA: 32s - loss: 0.5507 - accuracy: 0.734 - ETA: 18s - loss: 0.5668 - accuracy: 0.712 - ETA: 13s - loss: 0.5703 - accuracy: 0.712 - ETA: 11s - loss: 0.5647 - accuracy: 0.718 - ETA: 9s - loss: 0.5648 - accuracy: 0.719 - ETA: 8s - loss: 0.5663 - accuracy: 0.71 - ETA: 7s - loss: 0.5696 - accuracy: 0.71 - ETA: 6s - loss: 0.5700 - accuracy: 0.71 - ETA: 6s - loss: 0.5693 - accuracy: 0.71 - ETA: 5s - loss: 0.5691 - accuracy: 0.71 - ETA: 5s - loss: 0.5687 - accuracy: 0.71 - ETA: 4s - loss: 0.5670 - accuracy: 0.71 - ETA: 4s - loss: 0.5665 - accuracy: 0.71 - ETA: 3s - loss: 0.5665 - accuracy: 0.71 - ETA: 3s - loss: 0.5690 - accuracy: 0.71 - ETA: 3s - loss: 0.5708 - accuracy: 0.71 - ETA: 2s - loss: 0.5713 - accuracy: 0.71 - ETA: 2s - loss: 0.5705 - accuracy: 0.71 - ETA: 2s - loss: 0.5706 - accuracy: 0.71 - ETA: 2s - loss: 0.5691 - accuracy: 0.71 - ETA: 1s - loss: 0.5689 - accuracy: 0.71 - ETA: 1s - loss: 0.5665 - accuracy: 0.71 - ETA: 1s - loss: 0.5655 - accuracy: 0.71 - ETA: 1s - loss: 0.5651 - accuracy: 0.71 - ETA: 0s - loss: 0.5642 - accuracy: 0.71 - ETA: 0s - loss: 0.5645 - accuracy: 0.71 - ETA: 0s - loss: 0.5634 - accuracy: 0.71 - ETA: 0s - loss: 0.5635 - accuracy: 0.71 - ETA: 0s - loss: 0.5631 - accuracy: 0.71 - 9s 310ms/step - loss: 0.5619 - accuracy: 0.7193 - val_loss: 0.5632 - val_accuracy: 0.7178\n",
      "Epoch 4/10\n",
      "30/30 [==============================] - ETA: 51s - loss: 0.5228 - accuracy: 0.763 - ETA: 28s - loss: 0.5379 - accuracy: 0.748 - ETA: 21s - loss: 0.5408 - accuracy: 0.744 - ETA: 17s - loss: 0.5361 - accuracy: 0.746 - ETA: 15s - loss: 0.5373 - accuracy: 0.745 - ETA: 13s - loss: 0.5390 - accuracy: 0.744 - ETA: 12s - loss: 0.5427 - accuracy: 0.740 - ETA: 10s - loss: 0.5438 - accuracy: 0.737 - ETA: 10s - loss: 0.5430 - accuracy: 0.738 - ETA: 8s - loss: 0.5430 - accuracy: 0.738 - ETA: 8s - loss: 0.5428 - accuracy: 0.73 - ETA: 7s - loss: 0.5411 - accuracy: 0.73 - ETA: 6s - loss: 0.5407 - accuracy: 0.73 - ETA: 5s - loss: 0.5407 - accuracy: 0.73 - ETA: 5s - loss: 0.5433 - accuracy: 0.73 - ETA: 4s - loss: 0.5452 - accuracy: 0.73 - ETA: 4s - loss: 0.5459 - accuracy: 0.73 - ETA: 3s - loss: 0.5451 - accuracy: 0.73 - ETA: 3s - loss: 0.5452 - accuracy: 0.73 - ETA: 3s - loss: 0.5437 - accuracy: 0.73 - ETA: 2s - loss: 0.5436 - accuracy: 0.73 - ETA: 2s - loss: 0.5413 - accuracy: 0.73 - ETA: 2s - loss: 0.5405 - accuracy: 0.74 - ETA: 1s - loss: 0.5401 - accuracy: 0.74 - ETA: 1s - loss: 0.5391 - accuracy: 0.74 - ETA: 1s - loss: 0.5394 - accuracy: 0.74 - ETA: 0s - loss: 0.5382 - accuracy: 0.74 - ETA: 0s - loss: 0.5384 - accuracy: 0.74 - ETA: 0s - loss: 0.5380 - accuracy: 0.74 - 11s 364ms/step - loss: 0.5365 - accuracy: 0.7417 - val_loss: 0.5407 - val_accuracy: 0.7358\n",
      "Epoch 5/10\n",
      "30/30 [==============================] - ETA: 35s - loss: 0.4960 - accuracy: 0.783 - ETA: 20s - loss: 0.5102 - accuracy: 0.766 - ETA: 15s - loss: 0.5129 - accuracy: 0.763 - ETA: 11s - loss: 0.5087 - accuracy: 0.767 - ETA: 10s - loss: 0.5108 - accuracy: 0.766 - ETA: 8s - loss: 0.5124 - accuracy: 0.763 - ETA: 8s - loss: 0.5166 - accuracy: 0.75 - ETA: 7s - loss: 0.5184 - accuracy: 0.75 - ETA: 6s - loss: 0.5175 - accuracy: 0.75 - ETA: 6s - loss: 0.5177 - accuracy: 0.75 - ETA: 5s - loss: 0.5175 - accuracy: 0.75 - ETA: 5s - loss: 0.5156 - accuracy: 0.75 - ETA: 4s - loss: 0.5153 - accuracy: 0.75 - ETA: 4s - loss: 0.5152 - accuracy: 0.75 - ETA: 4s - loss: 0.5179 - accuracy: 0.75 - ETA: 3s - loss: 0.5197 - accuracy: 0.75 - ETA: 3s - loss: 0.5205 - accuracy: 0.75 - ETA: 3s - loss: 0.5198 - accuracy: 0.75 - ETA: 2s - loss: 0.5198 - accuracy: 0.75 - ETA: 2s - loss: 0.5184 - accuracy: 0.75 - ETA: 2s - loss: 0.5183 - accuracy: 0.75 - ETA: 2s - loss: 0.5160 - accuracy: 0.75 - ETA: 1s - loss: 0.5153 - accuracy: 0.75 - ETA: 1s - loss: 0.5148 - accuracy: 0.75 - ETA: 1s - loss: 0.5139 - accuracy: 0.76 - ETA: 0s - loss: 0.5142 - accuracy: 0.76 - ETA: 0s - loss: 0.5129 - accuracy: 0.76 - ETA: 0s - loss: 0.5130 - accuracy: 0.76 - ETA: 0s - loss: 0.5126 - accuracy: 0.76 - 11s 366ms/step - loss: 0.5109 - accuracy: 0.7621 - val_loss: 0.5176 - val_accuracy: 0.7534\n",
      "Epoch 6/10\n",
      "30/30 [==============================] - ETA: 35s - loss: 0.4700 - accuracy: 0.791 - ETA: 21s - loss: 0.4825 - accuracy: 0.784 - ETA: 15s - loss: 0.4852 - accuracy: 0.781 - ETA: 12s - loss: 0.4811 - accuracy: 0.786 - ETA: 10s - loss: 0.4839 - accuracy: 0.785 - ETA: 9s - loss: 0.4853 - accuracy: 0.784 - ETA: 8s - loss: 0.4899 - accuracy: 0.77 - ETA: 7s - loss: 0.4922 - accuracy: 0.77 - ETA: 6s - loss: 0.4914 - accuracy: 0.77 - ETA: 6s - loss: 0.4916 - accuracy: 0.77 - ETA: 5s - loss: 0.4916 - accuracy: 0.77 - ETA: 4s - loss: 0.4895 - accuracy: 0.77 - ETA: 4s - loss: 0.4893 - accuracy: 0.77 - ETA: 4s - loss: 0.4889 - accuracy: 0.77 - ETA: 3s - loss: 0.4916 - accuracy: 0.77 - ETA: 3s - loss: 0.4932 - accuracy: 0.77 - ETA: 3s - loss: 0.4943 - accuracy: 0.77 - ETA: 2s - loss: 0.4936 - accuracy: 0.77 - ETA: 2s - loss: 0.4935 - accuracy: 0.77 - ETA: 2s - loss: 0.4920 - accuracy: 0.77 - ETA: 1s - loss: 0.4919 - accuracy: 0.77 - ETA: 1s - loss: 0.4897 - accuracy: 0.77 - ETA: 1s - loss: 0.4891 - accuracy: 0.77 - ETA: 1s - loss: 0.4886 - accuracy: 0.78 - ETA: 1s - loss: 0.4876 - accuracy: 0.78 - ETA: 0s - loss: 0.4880 - accuracy: 0.78 - ETA: 0s - loss: 0.4866 - accuracy: 0.78 - ETA: 0s - loss: 0.4866 - accuracy: 0.78 - ETA: 0s - loss: 0.4863 - accuracy: 0.78 - 9s 284ms/step - loss: 0.4842 - accuracy: 0.7831 - val_loss: 0.4942 - val_accuracy: 0.7681\n",
      "Epoch 7/10\n",
      "30/30 [==============================] - ETA: 31s - loss: 0.4438 - accuracy: 0.806 - ETA: 17s - loss: 0.4542 - accuracy: 0.800 - ETA: 13s - loss: 0.4570 - accuracy: 0.801 - ETA: 10s - loss: 0.4532 - accuracy: 0.806 - ETA: 9s - loss: 0.4565 - accuracy: 0.804 - ETA: 7s - loss: 0.4577 - accuracy: 0.80 - ETA: 7s - loss: 0.4628 - accuracy: 0.79 - ETA: 6s - loss: 0.4656 - accuracy: 0.79 - ETA: 5s - loss: 0.4648 - accuracy: 0.79 - ETA: 5s - loss: 0.4652 - accuracy: 0.79 - ETA: 4s - loss: 0.4652 - accuracy: 0.79 - ETA: 4s - loss: 0.4630 - accuracy: 0.79 - ETA: 4s - loss: 0.4627 - accuracy: 0.79 - ETA: 3s - loss: 0.4621 - accuracy: 0.79 - ETA: 3s - loss: 0.4648 - accuracy: 0.79 - ETA: 3s - loss: 0.4662 - accuracy: 0.79 - ETA: 2s - loss: 0.4673 - accuracy: 0.79 - ETA: 2s - loss: 0.4667 - accuracy: 0.79 - ETA: 2s - loss: 0.4666 - accuracy: 0.79 - ETA: 2s - loss: 0.4651 - accuracy: 0.79 - ETA: 1s - loss: 0.4650 - accuracy: 0.79 - ETA: 1s - loss: 0.4629 - accuracy: 0.79 - ETA: 1s - loss: 0.4623 - accuracy: 0.79 - ETA: 1s - loss: 0.4618 - accuracy: 0.79 - ETA: 0s - loss: 0.4607 - accuracy: 0.80 - ETA: 0s - loss: 0.4612 - accuracy: 0.79 - ETA: 0s - loss: 0.4598 - accuracy: 0.80 - ETA: 0s - loss: 0.4598 - accuracy: 0.80 - ETA: 0s - loss: 0.4595 - accuracy: 0.80 - 8s 279ms/step - loss: 0.4572 - accuracy: 0.8019 - val_loss: 0.4710 - val_accuracy: 0.7828\n",
      "Epoch 8/10\n",
      "30/30 [==============================] - ETA: 31s - loss: 0.4173 - accuracy: 0.826 - ETA: 17s - loss: 0.4258 - accuracy: 0.821 - ETA: 13s - loss: 0.4290 - accuracy: 0.822 - ETA: 10s - loss: 0.4258 - accuracy: 0.826 - ETA: 9s - loss: 0.4291 - accuracy: 0.825 - ETA: 8s - loss: 0.4304 - accuracy: 0.82 - ETA: 7s - loss: 0.4356 - accuracy: 0.81 - ETA: 6s - loss: 0.4390 - accuracy: 0.81 - ETA: 6s - loss: 0.4382 - accuracy: 0.81 - ETA: 5s - loss: 0.4388 - accuracy: 0.81 - ETA: 5s - loss: 0.4389 - accuracy: 0.81 - ETA: 4s - loss: 0.4364 - accuracy: 0.81 - ETA: 4s - loss: 0.4361 - accuracy: 0.81 - ETA: 3s - loss: 0.4355 - accuracy: 0.81 - ETA: 3s - loss: 0.4381 - accuracy: 0.81 - ETA: 3s - loss: 0.4393 - accuracy: 0.81 - ETA: 2s - loss: 0.4406 - accuracy: 0.81 - ETA: 2s - loss: 0.4400 - accuracy: 0.81 - ETA: 2s - loss: 0.4399 - accuracy: 0.81 - ETA: 2s - loss: 0.4385 - accuracy: 0.81 - ETA: 1s - loss: 0.4384 - accuracy: 0.81 - ETA: 1s - loss: 0.4364 - accuracy: 0.81 - ETA: 1s - loss: 0.4359 - accuracy: 0.81 - ETA: 1s - loss: 0.4354 - accuracy: 0.81 - ETA: 0s - loss: 0.4342 - accuracy: 0.81 - ETA: 0s - loss: 0.4348 - accuracy: 0.81 - ETA: 0s - loss: 0.4333 - accuracy: 0.81 - ETA: 0s - loss: 0.4334 - accuracy: 0.82 - ETA: 0s - loss: 0.4331 - accuracy: 0.82 - 8s 271ms/step - loss: 0.4306 - accuracy: 0.8209 - val_loss: 0.4487 - val_accuracy: 0.7947\n",
      "Epoch 9/10\n",
      "30/30 [==============================] - ETA: 30s - loss: 0.3915 - accuracy: 0.839 - ETA: 17s - loss: 0.3987 - accuracy: 0.836 - ETA: 13s - loss: 0.4021 - accuracy: 0.835 - ETA: 10s - loss: 0.3994 - accuracy: 0.839 - ETA: 9s - loss: 0.4027 - accuracy: 0.836 - ETA: 8s - loss: 0.4040 - accuracy: 0.84 - ETA: 7s - loss: 0.4092 - accuracy: 0.83 - ETA: 6s - loss: 0.4132 - accuracy: 0.83 - ETA: 6s - loss: 0.4123 - accuracy: 0.82 - ETA: 5s - loss: 0.4129 - accuracy: 0.82 - ETA: 4s - loss: 0.4132 - accuracy: 0.82 - ETA: 4s - loss: 0.4106 - accuracy: 0.83 - ETA: 4s - loss: 0.4101 - accuracy: 0.83 - ETA: 3s - loss: 0.4096 - accuracy: 0.83 - ETA: 3s - loss: 0.4121 - accuracy: 0.83 - ETA: 3s - loss: 0.4131 - accuracy: 0.83 - ETA: 2s - loss: 0.4145 - accuracy: 0.82 - ETA: 2s - loss: 0.4141 - accuracy: 0.82 - ETA: 2s - loss: 0.4140 - accuracy: 0.82 - ETA: 2s - loss: 0.4126 - accuracy: 0.82 - ETA: 1s - loss: 0.4126 - accuracy: 0.82 - ETA: 1s - loss: 0.4107 - accuracy: 0.83 - ETA: 1s - loss: 0.4104 - accuracy: 0.83 - ETA: 1s - loss: 0.4098 - accuracy: 0.83 - ETA: 0s - loss: 0.4086 - accuracy: 0.83 - ETA: 0s - loss: 0.4093 - accuracy: 0.83 - ETA: 0s - loss: 0.4077 - accuracy: 0.83 - ETA: 0s - loss: 0.4078 - accuracy: 0.83 - ETA: 0s - loss: 0.4076 - accuracy: 0.83 - 8s 265ms/step - loss: 0.4048 - accuracy: 0.8340 - val_loss: 0.4279 - val_accuracy: 0.8067\n",
      "Epoch 10/10\n",
      "30/30 [==============================] - ETA: 36s - loss: 0.3671 - accuracy: 0.851 - ETA: 20s - loss: 0.3736 - accuracy: 0.852 - ETA: 15s - loss: 0.3771 - accuracy: 0.850 - ETA: 12s - loss: 0.3748 - accuracy: 0.852 - ETA: 10s - loss: 0.3779 - accuracy: 0.850 - ETA: 9s - loss: 0.3792 - accuracy: 0.851 - ETA: 8s - loss: 0.3844 - accuracy: 0.84 - ETA: 7s - loss: 0.3887 - accuracy: 0.84 - ETA: 6s - loss: 0.3878 - accuracy: 0.84 - ETA: 5s - loss: 0.3884 - accuracy: 0.84 - ETA: 5s - loss: 0.3888 - accuracy: 0.84 - ETA: 4s - loss: 0.3861 - accuracy: 0.84 - ETA: 4s - loss: 0.3856 - accuracy: 0.84 - ETA: 4s - loss: 0.3851 - accuracy: 0.84 - ETA: 3s - loss: 0.3875 - accuracy: 0.84 - ETA: 3s - loss: 0.3883 - accuracy: 0.84 - ETA: 2s - loss: 0.3897 - accuracy: 0.84 - ETA: 2s - loss: 0.3895 - accuracy: 0.84 - ETA: 2s - loss: 0.3893 - accuracy: 0.84 - ETA: 2s - loss: 0.3881 - accuracy: 0.84 - ETA: 1s - loss: 0.3882 - accuracy: 0.84 - ETA: 1s - loss: 0.3863 - accuracy: 0.84 - ETA: 1s - loss: 0.3862 - accuracy: 0.84 - ETA: 1s - loss: 0.3856 - accuracy: 0.84 - ETA: 0s - loss: 0.3844 - accuracy: 0.84 - ETA: 0s - loss: 0.3852 - accuracy: 0.84 - ETA: 0s - loss: 0.3836 - accuracy: 0.84 - ETA: 0s - loss: 0.3837 - accuracy: 0.84 - ETA: 0s - loss: 0.3834 - accuracy: 0.84 - 8s 274ms/step - loss: 0.3805 - accuracy: 0.8469 - val_loss: 0.4092 - val_accuracy: 0.8165\n"
     ]
    }
   ],
   "source": [
    "history = model.fit(train_data.shuffle(10000).batch(512),\n",
    "                    epochs=10,\n",
    "                    validation_data=validation_data.batch(512),\n",
    "                    verbose=1)"
   ]
  },
  {
   "cell_type": "code",
   "execution_count": 60,
   "metadata": {},
   "outputs": [
    {
     "name": "stdout",
     "output_type": "stream",
     "text": [
      "loss: 0.417\n",
      "accuracy: 0.816\n"
     ]
    }
   ],
   "source": [
    "'''Evaluate the model\n",
    "And let's see how the model performs. Two values will be returned. Loss (a number which represents our error, \n",
    "lower values are better), and accuracy.'''\n",
    "\n",
    "results = model.evaluate(test_data.batch(512), verbose=0)\n",
    "for name, value in zip(model.metrics_names, results):\n",
    "  print(\"%s: %.3f\" % (name, value))"
   ]
  },
  {
   "cell_type": "code",
   "execution_count": null,
   "metadata": {},
   "outputs": [],
   "source": []
  },
  {
   "cell_type": "code",
   "execution_count": null,
   "metadata": {},
   "outputs": [],
   "source": []
  },
  {
   "cell_type": "code",
   "execution_count": null,
   "metadata": {},
   "outputs": [],
   "source": []
  }
 ],
 "metadata": {
  "kernelspec": {
   "display_name": "Python 3",
   "language": "python",
   "name": "python3"
  },
  "language_info": {
   "codemirror_mode": {
    "name": "ipython",
    "version": 3
   },
   "file_extension": ".py",
   "mimetype": "text/x-python",
   "name": "python",
   "nbconvert_exporter": "python",
   "pygments_lexer": "ipython3",
   "version": "3.7.0"
  }
 },
 "nbformat": 4,
 "nbformat_minor": 2
}
